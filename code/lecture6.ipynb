{
 "cells": [
  {
   "cell_type": "markdown",
   "metadata": {},
   "source": [
    "# Lecture 6: Accelerating gradient descent with Chebyshev polynomials\n",
    "\n",
    "[EE227C course page](https://ee227c.github.io/)  \n",
    "[Download ipynb file](https://ee227c.github.io/code/lecture6.ipynb)\n",
    "\n",
    "In this lecture we will derive an intriguing way to speed up gradient descent using Chebyshev polynomials. In doing so, we'll also fill in the details for a blog post I wrote four and a half years ago called [zen of gradient descent](http://blog.mrtz.org/2013/09/07/the-zen-of-gradient-descent.html), just in case you were still waiting on that.\n",
    "\n",
    "Overview:\n",
    "\n",
    "* [A closer look at quadratics](#quadratics)\n",
    "* [Connection to polynomial approximation](#polynomials)\n",
    "* [Chebyshev polynomials](#chebyshev)\n",
    "* [Accelerated gradient descent for quadratics](#acceleration)\n",
    "\n",
    "Bibliographic note: *Linear Algebra and its Applications* by Peter D. Lax has a fantastic exposition of this material in Chapter 17. It's generally a fabulous linear algebra text that I highly recommend."
   ]
  },
  {
   "cell_type": "code",
   "execution_count": 1,
   "metadata": {
    "collapsed": false
   },
   "outputs": [
    {
     "data": {
      "text/html": [
       "<link href=\"https://fonts.googleapis.com/css?family=Inconsolata:700\" rel=\"stylesheet\">\n",
       "<link href=\"https://fonts.googleapis.com/css?family=Bree+Serif\" rel=\"stylesheet\">\n",
       "\n",
       "<style>\n",
       "div.text_cell_render p, \n",
       "div.text_cell_render li, \n",
       "div.text_cell_render ul \n",
       "{ \n",
       "    font-size:20pt;\n",
       "    line-height:28pt; \n",
       "    font-family: 'Bree Serif', monospace;\n",
       "    text-align: justify;\n",
       "}\n",
       ".CodeMirror pre, .inner_cell pre, pre {\n",
       "    line-height:26pt;\n",
       "    font-size:20pt; \n",
       "    font-family: 'Inconsolata', monospace;\n",
       "}\n",
       "div.output_subarea {font-size:18pt;}\n",
       "div.text_cell_render h1 {\n",
       "    background-color:#ebf5fb;\n",
       "    line-height: 48pt;\n",
       "    font-size: 36pt;\n",
       "    color:#222;\n",
       "    text-align:center;\n",
       "}\n",
       "div.text_cell_render h2 {\n",
       "    background-color:#ebf5fb;\n",
       "    font-size: 30pt;\n",
       "    line-height: 48pt;\n",
       "    text-align:center;\n",
       "}\n",
       "div.text_cell_render h3 {\n",
       "    background-color:#ebf5fb;\n",
       "    font-size: 24pt;\n",
       "}\n",
       "div.text_cell_render h4 {\n",
       "    background-color:#ebf5fb;\n",
       "    font-size: 22pt;\n",
       "}\n",
       "</style>\n"
      ],
      "text/plain": [
       "<IPython.core.display.HTML object>"
      ]
     },
     "metadata": {},
     "output_type": "display_data"
    }
   ],
   "source": [
    "%matplotlib inline\n",
    "\n",
    "import numpy as np\n",
    "import matplotlib\n",
    "import matplotlib.pyplot as plt\n",
    "\n",
    "from plotters import setup_layout\n",
    "setup_layout()"
   ]
  },
  {
   "cell_type": "markdown",
   "metadata": {},
   "source": [
    "<a name=\"nuclear-norm\"></a>\n",
    "\n",
    "## Quadratics\n",
    "\n",
    "Consider minimizing the objective function\n",
    "\n",
    "<p>\n",
    "$$f(x) = \\frac12 x^\\top A x - b^\\top x$$\n",
    "</p>\n",
    "\n",
    "over all of $\\mathbb{R}^n,$ where $A\\in\\mathbb{R}^{n\\times n}$ is a symmetric positive definite matrix. We might for instance want to do this when we solve linear equations corresponding to a Laplacian operator. Note that\n",
    "\n",
    "<p>\n",
    "$$\\nabla f(x) = Ax-b\\qquad\\text{and}\\qquad \\nabla^2 f(x) = A.$$\n",
    "</p>\n",
    "\n",
    "As we can see, the gradient vanishes when $Ax=b.$\n",
    "We denote the condition number of the matrix by $\\kappa=\\beta/\\alpha$ where $\\beta=\\lambda_1(A)$ and $\\alpha=\\lambda_n(A)>0.$ In particular, we know that the objective function is $\\beta$-smooth and $\\alpha$-strongly convex."
   ]
  },
  {
   "cell_type": "code",
   "execution_count": 2,
   "metadata": {
    "collapsed": true
   },
   "outputs": [],
   "source": [
    "def quadratic(A, b, x):\n",
    "    \"\"\"Quadratic defined by A and b at x.\"\"\"\n",
    "    return 0.5 * x.dot(A.dot(x)) - b.dot(x)"
   ]
  },
  {
   "cell_type": "markdown",
   "metadata": {},
   "source": [
    "We already saw in Lecture 3 that gradient descent achieves a linear convergence rate of the form $\\exp(-t\\alpha/\\beta)$ for all $\\alpha$-strongly convex and $\\beta$-smooth functions. Let's rederive this result for quadratics, where it's almost trivial.\n",
    "\n",
    "Let $x^*$ be the unique solution of the linear system $Ax=b$ and put\n",
    "\n",
    "<p>\n",
    "$$\n",
    "e_t = \\|x_t-x^*\\|\n",
    "$$\n",
    "</p>\n",
    "\n",
    "where $x_{t+1}=x_t - \\eta_t (Ax_t-b)$ is defined recursively starting from some $x_0,$ and $\\eta_t$ is a step size we'll determine shortly.\n",
    "\n",
    "Note that $x^*$ satisfies (for any $t$)\n",
    "<p>\n",
    "$$\n",
    "x^* = (I-\\eta_t A)x^* +\\eta b.\n",
    "$$\n",
    "</p>\n",
    "\n",
    "Hence,\n",
    "<p>\n",
    "$$\n",
    "\\begin{align}\n",
    "e_{t+1} & = x_{t+1}-x^* \\\\\n",
    " & = (I-\\eta_t A)x_t +\\eta_t b - ( (I-\\eta_t A)x^* +\\eta_t b ) \\\\\n",
    " & = (I-\\eta_t A)e_t.\n",
    "\\end{align}\n",
    "$$\n",
    "</p>\n",
    "\n",
    "This gives us $e_t = p_t(A)e_0,$ where $p_t$ is the polynomial\n",
    "<p>\n",
    "$$\n",
    "p_t(a) = \\prod_{i=1}^t (1-\\eta_ta)\\,.\\qquad(*)\n",
    "$$\n",
    "</p>\n",
    "\n",
    "We can upper bound the norm of the error term as\n",
    "\n",
    "$$\n",
    "\\|e_t\\|\\le \\|p_t(A)\\|\\cdot\\|e_0\\|\\,.\n",
    "$$"
   ]
  },
  {
   "cell_type": "markdown",
   "metadata": {},
   "source": [
    "Since $A$ is a symmetric matrix with eigenvalues in $[\\alpha,\\beta],$ it's not hard to justify that\n",
    "\n",
    "<p>\n",
    "$$\n",
    "\\|p_t(A)\\|\\le \\max_{\\alpha\\le a\\le\\beta} \\left|p_t(a)\\right|\\,.\n",
    "$$\n",
    "</p>\n",
    "\n",
    "This leads to an intriguing problem: Among all polynomials that satisfy $p_t(0)=1$ we're looking for a polynomial whose magnitude is as small as possible in the interval $[\\alpha,\\beta].$"
   ]
  },
  {
   "cell_type": "markdown",
   "metadata": {},
   "source": [
    "<a name=\"polynomials\"></a>\n",
    "\n",
    "## The naive polynomial solution\n",
    "\n",
    "A naive solution is to choose a uniform step size $\\eta_t=2/(\\alpha+\\beta)$ in the expression $(*).$ This rescales the eigenvalues of $A$ just in the right way so that a simple calculation gives the bound:\n",
    "\n",
    "<p>\n",
    "$$\n",
    "\\|e_t\\|\\le \\left(1-\\frac1{\\kappa}\\right)^t\\|e_1\\|\n",
    "\\le \\exp\\left(-\\alpha t/\\beta\\right)\\|x_0-x^*\\|\\,.\n",
    "$$\n",
    "</p>\n",
    "\n",
    "This is exactly the rate we proved in Lecture 3 for any smooth and strongly convex function. So, no surprise yet.\n",
    "\n",
    "Let's look at this polynomial a bit closer. In the example below we choose $\\alpha=1$ and $\\beta=10$ so that $\\kappa=10.$ The relevant interval is therefore $[1,10].$"
   ]
  },
  {
   "cell_type": "code",
   "execution_count": 3,
   "metadata": {
    "collapsed": false
   },
   "outputs": [
    {
     "ename": "NameError",
     "evalue": "name 'kwargs' is not defined",
     "output_type": "error",
     "traceback": [
      "\u001b[1;31m---------------------------------------------------------------------------\u001b[0m",
      "\u001b[1;31mNameError\u001b[0m                                 Traceback (most recent call last)",
      "\u001b[1;32m<ipython-input-3-88621c9b1289>\u001b[0m in \u001b[0;36m<module>\u001b[1;34m()\u001b[0m\n\u001b[0;32m      6\u001b[0m \u001b[0mplt\u001b[0m\u001b[1;33m.\u001b[0m\u001b[0mfigure\u001b[0m\u001b[1;33m(\u001b[0m\u001b[0mfigsize\u001b[0m\u001b[1;33m=\u001b[0m\u001b[1;33m(\u001b[0m\u001b[1;36m14\u001b[0m\u001b[1;33m,\u001b[0m \u001b[1;36m8\u001b[0m\u001b[1;33m)\u001b[0m\u001b[1;33m)\u001b[0m\u001b[1;33m\u001b[0m\u001b[0m\n\u001b[0;32m      7\u001b[0m \u001b[0mplt\u001b[0m\u001b[1;33m.\u001b[0m\u001b[0mtitle\u001b[0m\u001b[1;33m(\u001b[0m\u001b[1;34m'Naive polynomial'\u001b[0m\u001b[1;33m)\u001b[0m\u001b[1;33m\u001b[0m\u001b[0m\n\u001b[1;32m----> 8\u001b[1;33m \u001b[0mplt\u001b[0m\u001b[1;33m.\u001b[0m\u001b[0mplot\u001b[0m\u001b[1;33m(\u001b[0m\u001b[0mxs\u001b[0m\u001b[1;33m,\u001b[0m \u001b[0mp\u001b[0m\u001b[1;33m(\u001b[0m\u001b[1;36m3\u001b[0m\u001b[1;33m,\u001b[0m \u001b[0mxs\u001b[0m\u001b[1;33m)\u001b[0m\u001b[1;33m,\u001b[0m \u001b[1;34m'g-'\u001b[0m\u001b[1;33m,\u001b[0m \u001b[0mlabel\u001b[0m\u001b[1;33m=\u001b[0m\u001b[1;34m'degree 3'\u001b[0m\u001b[1;33m,\u001b[0m \u001b[1;33m**\u001b[0m\u001b[0mkwargs\u001b[0m\u001b[1;33m)\u001b[0m\u001b[1;33m\u001b[0m\u001b[0m\n\u001b[0m\u001b[0;32m      9\u001b[0m \u001b[0mplt\u001b[0m\u001b[1;33m.\u001b[0m\u001b[0mplot\u001b[0m\u001b[1;33m(\u001b[0m\u001b[0mxs\u001b[0m\u001b[1;33m,\u001b[0m \u001b[1;33m[\u001b[0m\u001b[0mp\u001b[0m\u001b[1;33m(\u001b[0m\u001b[1;36m3\u001b[0m\u001b[1;33m,\u001b[0m \u001b[0malpha\u001b[0m\u001b[1;33m)\u001b[0m\u001b[1;33m]\u001b[0m\u001b[1;33m*\u001b[0m\u001b[0mlen\u001b[0m\u001b[1;33m(\u001b[0m\u001b[0mxs\u001b[0m\u001b[1;33m)\u001b[0m\u001b[1;33m,\u001b[0m \u001b[1;34m'g--'\u001b[0m\u001b[1;33m,\u001b[0m \u001b[0mlabel\u001b[0m\u001b[1;33m=\u001b[0m\u001b[1;34m'max value'\u001b[0m\u001b[1;33m)\u001b[0m\u001b[1;33m\u001b[0m\u001b[0m\n\u001b[0;32m     10\u001b[0m \u001b[0mplt\u001b[0m\u001b[1;33m.\u001b[0m\u001b[0mplot\u001b[0m\u001b[1;33m(\u001b[0m\u001b[0mxs\u001b[0m\u001b[1;33m,\u001b[0m \u001b[0mp\u001b[0m\u001b[1;33m(\u001b[0m\u001b[1;36m6\u001b[0m\u001b[1;33m,\u001b[0m \u001b[0mxs\u001b[0m\u001b[1;33m)\u001b[0m\u001b[1;33m,\u001b[0m \u001b[1;34m'b-'\u001b[0m\u001b[1;33m,\u001b[0m \u001b[0mlabel\u001b[0m\u001b[1;33m=\u001b[0m\u001b[1;34m'degree 6'\u001b[0m\u001b[1;33m,\u001b[0m \u001b[1;33m**\u001b[0m\u001b[0mkwargs\u001b[0m\u001b[1;33m)\u001b[0m\u001b[1;33m\u001b[0m\u001b[0m\n",
      "\u001b[1;31mNameError\u001b[0m: name 'kwargs' is not defined"
     ]
    },
    {
     "data": {
      "image/png": "[encoded data removed]",
      "text/plain": [
       "<matplotlib.figure.Figure at 0x7f916eb0a510>"
      ]
     },
     "metadata": {},
     "output_type": "display_data"
    }
   ],
   "source": [
    "def p(k, x, alpha=1.0, beta=10.0):\n",
    "    return np.power(1.0 - 2.0*x/(alpha+beta), k)\n",
    "\n",
    "alpha, beta = 1.0, 10.0\n",
    "xs = np.linspace(0, beta, 100)\n",
    "plt.figure(figsize=(14, 8))\n",
    "plt.title('Naive polynomial')\n",
    "plt.plot(xs, p(3, xs), 'g-', label='degree 3', **kwargs)\n",
    "plt.plot(xs, [p(3, alpha)]*len(xs), 'g--', label='max value')\n",
    "plt.plot(xs, p(6, xs), 'b-', label='degree 6', **kwargs)\n",
    "plt.plot(xs, [p(6, alpha)]*len(xs), 'b--', label='max value')\n",
    "plt.legend()"
   ]
  },
  {
   "cell_type": "markdown",
   "metadata": {},
   "source": [
    "Doubling the degree roughly halves the maximum absolute value that the polynomial attains in the interval $[\\alpha, \\beta].$\n",
    "\n",
    "Can we do better than this? Surprisingly, the answer is yes!"
   ]
  },
  {
   "cell_type": "markdown",
   "metadata": {},
   "source": [
    "<a name=\"chebyshev\"></a>\n",
    "\n",
    "## Chebyshev polynomials\n",
    "\n",
    "Chebyshev polynomials turn out to give an optimal answer to the question that we asked. Suitably rescaled, they minimize the absolute value in a desired interval $[\\alpha, \\beta]$ while satisfying the normalization constraint of having value $1$ at the origin.\n",
    "\n",
    "Before we do the rescaling, we will first look at the standard Chebyshev polynomials (\"of the first kind\") on the interval $[-1,1].$ These polynomials have several natural equivalent definitions. We define the Chebyshev polynomial $T_k$ recursively as follows:\n",
    "\n",
    "<p>\n",
    "$$\n",
    "\\begin{align}\n",
    "T_0(a) &= 0\\\\\n",
    "T_1(a) &= x\\\\\n",
    "T_k(a) &=2aT_{k-1}(a)-T_{k-2}(a),\\qquad k\\ge 2.\\\\\n",
    "\\end{align}\n",
    "$$\n",
    "</p>"
   ]
  },
  {
   "cell_type": "code",
   "execution_count": null,
   "metadata": {
    "collapsed": true
   },
   "outputs": [],
   "source": [
    "def T(k, a):\n",
    "    \"\"\"Chebyshev polynomial of degree k\"\"\"\n",
    "    if k <= 1:\n",
    "        return a**k\n",
    "    else:\n",
    "        return 2.0*a*T(k-1, a) - T(k-2, a)"
   ]
  },
  {
   "cell_type": "markdown",
   "metadata": {},
   "source": [
    "Here are the first 5 Chebyshev polynomials."
   ]
  },
  {
   "cell_type": "code",
   "execution_count": null,
   "metadata": {
    "collapsed": false
   },
   "outputs": [],
   "source": [
    "xs = np.linspace(-1, 1, 100)\n",
    "plt.figure(figsize=(14, 10))\n",
    "_ = [plt.plot(xs, T(k, xs), **kwargs) for k in range(0, 5)]"
   ]
  },
  {
   "cell_type": "markdown",
   "metadata": {},
   "source": [
    "So far so good. The magic happens when we rescale these polynomials so as to satisfy our requirements."
   ]
  },
  {
   "cell_type": "markdown",
   "metadata": {},
   "source": [
    "### Rescaled Chebyshev polynomials\n",
    "\n",
    "Recall that the eigenvalues of the matrix we consider are in the interval $[\\alpha, \\beta].$ We need to rescale the Chebyshev polynomials so that they're supported on this interval and still attain value $1$ at the origin. This is accomplished by the polynomial\n",
    "\n",
    "<p>\n",
    "$$\n",
    "P_k(a) = T_k\\left(\\frac{\\beta+\\alpha-2a}{\\beta-\\alpha}\\right)\\cdot T\\left(\\frac{\\beta+\\alpha}{\\beta-\\alpha}\\right)^{-1}\\,.\n",
    "$$\n",
    "</p>"
   ]
  },
  {
   "cell_type": "code",
   "execution_count": null,
   "metadata": {
    "collapsed": true
   },
   "outputs": [],
   "source": [
    "def P(k, a, alpha=1, beta=10.0):\n",
    "    \"\"\"Rescaled Chebyshev polynomial.\"\"\"\n",
    "    assert beta > alpha\n",
    "    normalization = T(k, (beta+alpha)/(beta-alpha))\n",
    "    return T(k, (beta+alpha-2*a)/(beta-alpha))/normalization"
   ]
  },
  {
   "cell_type": "code",
   "execution_count": null,
   "metadata": {
    "collapsed": false
   },
   "outputs": [],
   "source": [
    "alpha, beta = 1.0, 10.0\n",
    "xs = np.linspace(0, beta, 100)\n",
    "plt.figure(figsize=(14, 8))\n",
    "plt.title('Rescaled chebyshev')\n",
    "plt.plot(xs, P(3, xs), 'g-', label='degree 3', **kwargs)\n",
    "plt.plot(xs, [P(3, alpha)]*len(xs), 'g--', label='max value')\n",
    "plt.plot(xs, P(6, xs), 'b-', label='degree 6', **kwargs)\n",
    "plt.plot(xs, [P(6, alpha)]*len(xs), 'b--', label='max value')\n",
    "_ = plt.legend()"
   ]
  },
  {
   "cell_type": "markdown",
   "metadata": {},
   "source": [
    "We see that doubling the degree has a much more dramatic effect on the magnitude of the polynomial in the interval $[\\alpha, \\beta].$\n",
    "\n",
    "Let's compare this beautiful Chebyshev polynomial side by side with the naive polynomial we saw earlier."
   ]
  },
  {
   "cell_type": "code",
   "execution_count": null,
   "metadata": {
    "collapsed": false
   },
   "outputs": [],
   "source": [
    "plt.figure(figsize=(14, 8))\n",
    "plt.title('Rescaled chebyshev vs naive polynomial')\n",
    "plt.plot(xs, P(6, xs), 'g-', label='deg-6 chebyshev', **kwargs)\n",
    "plt.plot(xs, [P(6, alpha)]*len(xs), 'g--', label='max value')\n",
    "plt.plot(xs, p(6, xs), 'b-', label='deg-6 naive', **kwargs)\n",
    "plt.plot(xs, [p(6, alpha)]*len(xs), 'b--', label='max value')\n",
    "plt.legend()"
   ]
  },
  {
   "cell_type": "markdown",
   "metadata": {},
   "source": [
    "That looks promising. But what exactly is the error bound that comes out of it and how does it lead to an iterative algorithm? These are important questions that we'll answer next."
   ]
  },
  {
   "cell_type": "markdown",
   "metadata": {},
   "source": [
    "<a name=\"acceleration\"></a>\n",
    "\n",
    "## Accelerated gradient descent\n",
    "\n",
    "The Chebyshev polynomial leads to an accelerated version of gradient descent. Before we describe the iterative process, let's first see what error bound comes out of the Chebyshev polynomial.\n",
    "\n",
    "So, just how large is the polynomial in the interval $[\\alpha, \\beta]$? First, note that the maximum value is attained at $\\alpha$. Plugging this into the definition of the rescaled Chebyshev polynomial we get the upper bound for any $a\\in[\\alpha, \\beta],$\n",
    "\n",
    "<p>\n",
    "$$\n",
    "|P_k(a)| \\le P_k(\\alpha)= T\\left(\\frac{\\beta+\\alpha}{\\beta-\\alpha}\\right)^{-1}.\n",
    "$$\n",
    "</p>\n",
    "\n",
    "Recalling the condition number $\\kappa=\\beta/\\alpha,$ we have\n",
    "<p>\n",
    "$$\n",
    "\\frac{\\beta+\\alpha}{\\beta-\\alpha}\n",
    "=\\frac{\\kappa+1}{\\kappa-1}=1+\\epsilon\n",
    "$$\n",
    "for some $\\epsilon\\approx 2/\\kappa.$\n",
    "</p>\n",
    "\n",
    "We therefore only need to understand the value of $T_k$ at $1+\\epsilon.$"
   ]
  },
  {
   "cell_type": "markdown",
   "metadata": {},
   "source": [
    "A well-known fact about the Chebyshev polynomials comes in handy.\n",
    "\n",
    "**Fact**. For $x>1,$ we have $T_k(x)=\\cosh(k\\cdot\\mathrm{arccosh}(x)).$\n",
    "\n",
    "Recall that $\\cosh(x) = (e^x+e^{-x})/2$ and $\\mathrm{arccosh}(x) = \\ln(x+\\sqrt{x^2-1}).$\n"
   ]
  },
  {
   "cell_type": "markdown",
   "metadata": {},
   "source": [
    "Now, letting $\\phi=\\mathrm{arccosh}(1+\\epsilon),$\n",
    "<p>\n",
    "$$\n",
    "e^{\\phi} = 1+\\epsilon+\\sqrt{2\\epsilon+\\epsilon^2}\n",
    "\\ge 1+\\sqrt{\\epsilon}\\,.\n",
    "$$\n",
    "</p>\n",
    "\n",
    "Therefore,\n",
    "<p>\n",
    "$$\n",
    "T_k(1+\\epsilon)=\\frac{(e^{\\phi})^k+(e^{\\phi})^{-k}}{2}\n",
    "\\ge \\frac{\\big(1+\\sqrt{\\epsilon}\\big)^k}2\\,.\n",
    "$$\n",
    "</p>\n",
    "\n",
    "The reciprocal is what we needed to upper bound, so we have\n",
    "<p>\n",
    "$$\n",
    "T\\left(\\frac{\\beta+\\alpha}{\\beta-\\alpha}\\right)^{-1}\n",
    "\\le 2\\big(1+\\sqrt{\\epsilon}\\big)^{-k}\\,.\n",
    "$$\n",
    "</p>\n",
    "\n",
    "This establishes that the Chebyshev polynomial achieves the error bound\n",
    "<p>\n",
    "$$\n",
    "\\|e_k\\|\\le 2\\big(1+\\sqrt{\\epsilon}\\big)^{-k}\\|e_0\\|\n",
    "$$\n",
    "</p>\n",
    "\n",
    "Recalling that $\\epsilon\\approx 1/\\kappa,$ this means that for large $\\kappa,$ we get quadratic savings in the degree we need before the error drops of exponentially."
   ]
  },
  {
   "cell_type": "markdown",
   "metadata": {},
   "source": [
    "### The Chebyshev recurrence relation"
   ]
  },
  {
   "cell_type": "markdown",
   "metadata": {},
   "source": [
    "Due to the recursive definition of the Chebyshev polynomial, we directly get an iterative algorithm out of it. Transferring the recursive definition to our rescaled Chebyshev polynomial, we have\n",
    "\n",
    "<p>\n",
    "$$\n",
    "P_{k+1}(a) = (\\eta_k a + \\gamma_k)P_k(a) + \\mu_k P_{k-1}(a),\n",
    "$$\n",
    "</p>\n",
    "\n",
    "where we can work out the coefficients $\\eta_k,\\gamma_k,\\mu_k$ from the definition. Since $P_k(0)=1,$ we must have $\\gamma_k+\\mu_k=1.$ This leads to a simple update rule for our iterates:\n",
    "\n",
    "<p>\n",
    "$$\n",
    "\\begin{align}\n",
    "x_{k+1} &= (\\eta_k A + \\gamma_k)x_k + (1-\\gamma_k) x_{k-1}-\\eta_k b\\\\\n",
    "&= x_k - \\eta_k\\nabla f(x_k) + \\mu_k (x_k - x_{k-1})\n",
    "\\end{align}\n",
    "$$\n",
    "</p>\n",
    "\n",
    "We see that this update form is very similar to plain gradient descent except for the additional term $\\mu_k(x_k - x_{k-1}).$ This term can be interpreted as a *momentum* term, pushing the algorithm in the direction of where it was headed before.\n",
    "\n",
    "In the next lecture, we'll dig deaper into momentum and see how to generalize the result for quadratics to general convex functions."
   ]
  },
  {
   "cell_type": "markdown",
   "metadata": {},
   "source": [
    "## That's it. Thanks."
   ]
  }
 ],
 "metadata": {
  "kernelspec": {
   "display_name": "Python 2",
   "language": "python",
   "name": "python2"
  },
  "language_info": {
   "codemirror_mode": {
    "name": "ipython",
    "version": 2
   },
   "file_extension": ".py",
   "mimetype": "text/x-python",
   "name": "python",
   "nbconvert_exporter": "python",
   "pygments_lexer": "ipython2",
   "version": "2.7.12"
  }
 },
 "nbformat": 4,
 "nbformat_minor": 1
}
