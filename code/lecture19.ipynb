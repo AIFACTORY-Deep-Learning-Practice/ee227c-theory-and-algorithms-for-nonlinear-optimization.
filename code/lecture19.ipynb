{
 "cells": [
  {
   "cell_type": "markdown",
   "metadata": {},
   "source": [
    "# Lecture 19: EM algorithm and alternating minimization\n",
    "\n",
    "[EE227C course page](https://ee227c.github.io/)  \n",
    "[Download ipynb file](https://ee227c.github.io/code/lecture19.ipynb)\n",
    "\n",
    "In this lecture, we'll look at the well known EM algorithm and alternating minimization for solving non-convex optimization problems.\n",
    "\n",
    "Overview:\n",
    "\n",
    "* [k-means](#kmeans)\n",
    "* [EM](#em)\n",
    "* [Alternating minimization](#am)\n",
    "\n",
    "\n",
    "Bibliographic notes: "
   ]
  },
  {
   "cell_type": "code",
   "execution_count": 1,
   "metadata": {
    "collapsed": false
   },
   "outputs": [
    {
     "data": {
      "text/html": [
       "<link href=\"https://fonts.googleapis.com/css?family=Inconsolata:700\" rel=\"stylesheet\">\n",
       "<link href=\"https://fonts.googleapis.com/css?family=Bree+Serif\" rel=\"stylesheet\">\n",
       "\n",
       "<style>\n",
       "div.text_cell_render p, \n",
       "div.text_cell_render li, \n",
       "div.text_cell_render ul \n",
       "{ \n",
       "    font-size:20pt;\n",
       "    line-height:28pt; \n",
       "    font-family: 'Bree Serif', monospace;\n",
       "    text-align: justify;\n",
       "}\n",
       ".CodeMirror pre, .inner_cell pre, pre {\n",
       "    line-height:26pt;\n",
       "    font-size:20pt; \n",
       "    font-family: 'Inconsolata', monospace;\n",
       "}\n",
       "div.output_subarea {font-size:18pt;}\n",
       "div.text_cell_render h1 {\n",
       "    background-color:#ebf5fb;\n",
       "    line-height: 48pt;\n",
       "    font-size: 36pt;\n",
       "    color:#222;\n",
       "    text-align:center;\n",
       "}\n",
       "div.text_cell_render h2 {\n",
       "    background-color:#ebf5fb;\n",
       "    font-size: 30pt;\n",
       "    line-height: 48pt;\n",
       "    text-align:center;\n",
       "}\n",
       "div.text_cell_render h3 {\n",
       "    background-color:#ebf5fb;\n",
       "    font-size: 24pt;\n",
       "}\n",
       "div.text_cell_render h4 {\n",
       "    background-color:#ebf5fb;\n",
       "    font-size: 22pt;\n",
       "}\n",
       "</style>\n"
      ],
      "text/plain": [
       "<IPython.core.display.HTML object>"
      ]
     },
     "metadata": {},
     "output_type": "display_data"
    }
   ],
   "source": [
    "%matplotlib inline\n",
    "\n",
    "import numpy as np\n",
    "import matplotlib\n",
    "import matplotlib.pyplot as plt\n",
    "\n",
    "from plotters import kwargs, setup_layout\n",
    "setup_layout()"
   ]
  },
  {
   "cell_type": "markdown",
   "metadata": {},
   "source": [
    "<a name=\"kmeans\"></a>\n",
    "\n",
    "## k-means\n",
    "\n",
    "\n"
   ]
  },
  {
   "cell_type": "markdown",
   "metadata": {},
   "source": [
    "<a name=\"em\"></a>\n",
    "\n",
    "## EM\n",
    "\n"
   ]
  },
  {
   "cell_type": "markdown",
   "metadata": {},
   "source": [
    "<a name=\"am\"></a>\n",
    "\n",
    "## Alternating Minimization"
   ]
  },
  {
   "cell_type": "markdown",
   "metadata": {},
   "source": [
    "## That's it. Thanks."
   ]
  }
 ],
 "metadata": {
  "kernelspec": {
   "display_name": "Python 2",
   "language": "python",
   "name": "python2"
  },
  "language_info": {
   "codemirror_mode": {
    "name": "ipython",
    "version": 2
   },
   "file_extension": ".py",
   "mimetype": "text/x-python",
   "name": "python",
   "nbconvert_exporter": "python",
   "pygments_lexer": "ipython2",
   "version": "2.7.12"
  }
 },
 "nbformat": 4,
 "nbformat_minor": 1
}
